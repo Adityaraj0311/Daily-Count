{
  "nbformat": 4,
  "nbformat_minor": 0,
  "metadata": {
    "colab": {
      "provenance": []
    },
    "kernelspec": {
      "name": "python3",
      "display_name": "Python 3"
    },
    "language_info": {
      "name": "python"
    }
  },
  "cells": [
    {
      "cell_type": "code",
      "execution_count": null,
      "metadata": {
        "id": "H4dAqwcWNQ3y"
      },
      "outputs": [],
      "source": [
        "# Definition for singly-linked list.\n",
        "# class ListNode:\n",
        "#     def __init__(self, val=0, next=None):\n",
        "#         self.val = val\n",
        "#         self.next = next\n",
        "class Solution:\n",
        "    def addTwoNumbers(self, l1: Optional[ListNode], l2: Optional[ListNode]) -> Optional[ListNode]:\n",
        "        current = dummy = ListNode(0)\n",
        "        carry = 0\n",
        "        while l1 or l2 or carry: #0(max(m,n))\n",
        "            if l1:\n",
        "                carry += l1.val\n",
        "                l1 = l1.next\n",
        "            if l2:\n",
        "                carry += l2.val\n",
        "                l2 = l2.next\n",
        "            current.next = ListNode(carry % 10)\n",
        "            current = current.next\n",
        "            carry //= 10\n",
        "        return dummy.next\n",
        "\n"
      ]
    }
  ]
}