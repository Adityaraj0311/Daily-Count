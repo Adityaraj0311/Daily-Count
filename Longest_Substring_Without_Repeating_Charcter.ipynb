{
  "nbformat": 4,
  "nbformat_minor": 0,
  "metadata": {
    "colab": {
      "provenance": []
    },
    "kernelspec": {
      "name": "python3",
      "display_name": "Python 3"
    },
    "language_info": {
      "name": "python"
    }
  },
  "cells": [
    {
      "cell_type": "code",
      "execution_count": null,
      "metadata": {
        "id": "yiRHPiGqNqfe"
      },
      "outputs": [],
      "source": [
        "class Solution:\n",
        "    def lengthOfLongestSubstring(self, s: str) -> int:\n",
        "        charSet = set()\n",
        "        l = 0\n",
        "        res = 0\n",
        "\n",
        "        for r in range(len(s)):\n",
        "            while s[r] in charSet:\n",
        "                charSet.remove(s[l])\n",
        "                l += 1\n",
        "            charSet.add(s[r])\n",
        "            res = max(res, r - l + 1)\n",
        "        return res"
      ]
    }
  ]
}