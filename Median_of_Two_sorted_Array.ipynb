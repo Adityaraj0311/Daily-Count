{
  "nbformat": 4,
  "nbformat_minor": 0,
  "metadata": {
    "colab": {
      "provenance": []
    },
    "kernelspec": {
      "name": "python3",
      "display_name": "Python 3"
    },
    "language_info": {
      "name": "python"
    }
  },
  "cells": [
    {
      "cell_type": "code",
      "execution_count": null,
      "metadata": {
        "id": "ZlFkNF9TOApj"
      },
      "outputs": [],
      "source": [
        "class Solution:\n",
        "    def findMedianSortedArrays(self, nums1: List[int], nums2: List[int]) -> float:\n",
        "        A, B = nums1, nums2\n",
        "        total = len(nums1) + len(nums2)\n",
        "        half = total // 2\n",
        "\n",
        "        if len(B) < len(A):\n",
        "            A, B = B, A\n",
        "\n",
        "        l, r = 0, len(A) - 1\n",
        "        while True:\n",
        "            i = (l + r) // 2 # A\n",
        "            j = half - i -2 # B\n",
        "\n",
        "            Aleft = A[i] if i >= 0 else float(\"-infinity\")\n",
        "            Aright = A[i + 1] if (i + 1) < len(A) else float(\"infinity\")\n",
        "            Bleft = B[j] if j >= 0 else float(\"-infinity\")\n",
        "            Bright = B[j + 1] if (j + 1) < len(B) else float(\"infinity\")\n",
        "\n",
        "\n",
        "            if Aleft <= Bright and Bleft <= Aright:\n",
        "\n",
        "                if total % 2:\n",
        "                    return min(Aright, Bright)\n",
        "\n",
        "                return (max(Aleft, Bleft) + min(Aright, Bright)) / 2\n",
        "            elif Aleft > Bright:\n",
        "                r = i - 1\n",
        "            else:\n",
        "                l = i + 1\n",
        "\n"
      ]
    }
  ]
}